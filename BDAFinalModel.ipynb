{
 "cells": [
  {
   "cell_type": "markdown",
   "id": "e5b61f8d",
   "metadata": {
    "papermill": {
     "duration": 0.011161,
     "end_time": "2024-03-15T04:41:00.216021",
     "exception": false,
     "start_time": "2024-03-15T04:41:00.204860",
     "status": "completed"
    },
    "tags": []
   },
   "source": [
    "![](https://moneylion.nyc3.cdn.digitaloceanspaces.com/wp-content/uploads/2023/01/06170512/Untitled-design-88.webp)"
   ]
  },
  {
   "cell_type": "markdown",
   "id": "820518df",
   "metadata": {
    "papermill": {
     "duration": 0.010593,
     "end_time": "2024-03-15T04:41:00.237529",
     "exception": false,
     "start_time": "2024-03-15T04:41:00.226936",
     "status": "completed"
    },
    "tags": []
   },
   "source": [
    "Install Some Missing Libraries"
   ]
  },
  {
   "cell_type": "code",
   "execution_count": null,
   "id": "184a22f2",
   "metadata": {
    "_kg_hide-output": true,
    "execution": {
     "iopub.execute_input": "2024-03-15T04:41:00.262181Z",
     "iopub.status.busy": "2024-03-15T04:41:00.261508Z",
     "iopub.status.idle": "2024-03-15T04:41:31.843317Z",
     "shell.execute_reply": "2024-03-15T04:41:31.841856Z"
    },
    "papermill": {
     "duration": 31.597118,
     "end_time": "2024-03-15T04:41:31.846197",
     "exception": false,
     "start_time": "2024-03-15T04:41:00.249079",
     "status": "completed"
    },
    "tags": []
   },
   "outputs": [],
   "source": [
    "pip install yfinance"
   ]
  },
  {
   "cell_type": "code",
   "execution_count": null,
   "id": "761b3e41",
   "metadata": {
    "_kg_hide-output": true,
    "execution": {
     "iopub.execute_input": "2024-03-15T04:41:31.874729Z",
     "iopub.status.busy": "2024-03-15T04:41:31.874302Z",
     "iopub.status.idle": "2024-03-15T04:41:42.563645Z",
     "shell.execute_reply": "2024-03-15T04:41:42.561814Z"
    },
    "papermill": {
     "duration": 10.706988,
     "end_time": "2024-03-15T04:41:42.566145",
     "exception": false,
     "start_time": "2024-03-15T04:41:31.859157",
     "status": "completed"
    },
    "tags": []
   },
   "outputs": [],
   "source": [
    "pip install pmdarima"
   ]
  },
  {
   "cell_type": "code",
   "execution_count": null,
   "id": "b43ae37b",
   "metadata": {},
   "outputs": [],
   "source": [
    "pip install pandas_datareader"
   ]
  },
  {
   "cell_type": "code",
   "execution_count": null,
   "id": "1a9e2273",
   "metadata": {},
   "outputs": [],
   "source": [
    "pip install prophet"
   ]
  },
  {
   "cell_type": "code",
   "execution_count": null,
   "id": "70bc81c9",
   "metadata": {},
   "outputs": [],
   "source": [
    "pip install XGboost"
   ]
  },
  {
   "cell_type": "code",
   "execution_count": null,
   "id": "f668b32d",
   "metadata": {
    "_cell_guid": "b1076dfc-b9ad-4769-8c92-a6c4dae69d19",
    "_uuid": "8f2839f25d086af736a60e9eeb907d3b93b6e0e5",
    "execution": {
     "iopub.execute_input": "2024-03-15T04:41:42.595558Z",
     "iopub.status.busy": "2024-03-15T04:41:42.595209Z",
     "iopub.status.idle": "2024-03-15T04:41:50.559141Z",
     "shell.execute_reply": "2024-03-15T04:41:50.558236Z"
    },
    "papermill": {
     "duration": 7.98113,
     "end_time": "2024-03-15T04:41:50.561032",
     "exception": false,
     "start_time": "2024-03-15T04:41:42.579902",
     "status": "completed"
    },
    "tags": []
   },
   "outputs": [],
   "source": [
    "import datetime\n",
    "import matplotlib.pyplot as plt\n",
    "import numpy as np\n",
    "import optuna\n",
    "import pandas as pd\n",
    "import yfinance as yf\n",
    "\n",
    "import pandas_datareader as pdr\n",
    "from prophet import Prophet\n",
    "from sklearn.metrics import mean_absolute_error, mean_squared_error\n",
    "from sklearn.model_selection import train_test_split\n",
    "from statsmodels.tsa.arima.model import ARIMA\n",
    "from xgboost import XGBRegressor\n",
    "\n",
    "from pmdarima import auto_arima\n",
    "\n",
    "import warnings\n",
    "warnings.filterwarnings(\"ignore\")\n",
    "\n",
    "plt.style.use('ggplot')\n",
    "######################################################################################\n",
    "stock_data = yf.download('AAPL') # you can choose whatever stockticker you want\n",
    "\n",
    "num_days_pred=30 # Number of days you want to predict in the future the higher the less accuracy\n",
    "######################################################################################\n",
    "\n",
    "# Here I choose to only use the last 3 years of stock data \n",
    "slice = int(len(stock_data)- 356*3)\n",
    "stock_data = stock_data.iloc[slice:]\n",
    "\n",
    "# Here I Choose to continue with only Close value column since that is what we care about \n",
    "stock_data.drop(columns=['Open', 'High', 'Low', 'Adj Close', 'Volume'],inplace=True)\n",
    "\n",
    "\n",
    "# Function to calculate mean absolute error percentage\n",
    "def mean_absolute_percentage_error(y_true, y_pred): \n",
    "    \"\"\"Calculates MAPE given y_true and y_pred\"\"\"\n",
    "    y_true, y_pred = np.array(y_true), np.array(y_pred)\n",
    "    return np.mean(np.abs((y_true - y_pred) / y_true)) * 100\n",
    "\n",
    "def add_lags(df,num_days_pred=num_days_pred):\n",
    "    target = 'Close'\n",
    "    df['lag1'] = df[target].shift(num_days_pred)  \n",
    "    df['lag2'] = df[target].shift(num_days_pred*2)    \n",
    "    df['lag3'] = df[target].shift(num_days_pred*3)    \n",
    "    df['lag4'] = df[target].shift(num_days_pred*4)    \n",
    "    df['lag5'] = df[target].shift(num_days_pred*5)\n",
    "    df['lag6'] = df[target].shift(num_days_pred*6)\n",
    "    df['lag7'] = df[target].shift(num_days_pred*7)\n",
    "    df['lag8'] = df[target].shift(num_days_pred*8)\n",
    "    df['lag9'] = df[target].shift(num_days_pred*9)\n",
    "    df['lag10'] = df[target].shift(num_days_pred*10)\n",
    "    df['lag11'] = df[target].shift(num_days_pred*11)\n",
    "    df['lag12'] = df[target].shift(num_days_pred*12)\n",
    "\n",
    "\n",
    "\n",
    "    return df\n",
    "\n",
    "def create_features(df):\n",
    "    \"\"\"\n",
    "    Create time series features based on time series index.\n",
    "    \"\"\"\n",
    "    df = df.copy()\n",
    "    df['hour'] = df.index.hour\n",
    "    df['dayofweek'] = df.index.dayofweek\n",
    "    df['quarter'] = df.index.quarter\n",
    "    df['month'] = df.index.month\n",
    "    df['year'] = df.index.year\n",
    "    df['dayofyear'] = df.index.dayofyear\n",
    "    df['dayofmonth'] = df.index.day\n",
    "    df['weekofyear'] = df.index.isocalendar().week\n",
    "    return df"
   ]
  },
  {
   "cell_type": "markdown",
   "id": "b5b45318",
   "metadata": {
    "papermill": {
     "duration": 0.013575,
     "end_time": "2024-03-15T04:41:50.588516",
     "exception": false,
     "start_time": "2024-03-15T04:41:50.574941",
     "status": "completed"
    },
    "tags": []
   },
   "source": [
    "# XGBOOST"
   ]
  },
  {
   "cell_type": "code",
   "execution_count": null,
   "id": "718734ca",
   "metadata": {
    "execution": {
     "iopub.execute_input": "2024-03-15T04:41:50.618876Z",
     "iopub.status.busy": "2024-03-15T04:41:50.617893Z",
     "iopub.status.idle": "2024-03-15T04:41:50.623141Z",
     "shell.execute_reply": "2024-03-15T04:41:50.621984Z"
    },
    "papermill": {
     "duration": 0.022877,
     "end_time": "2024-03-15T04:41:50.625377",
     "exception": false,
     "start_time": "2024-03-15T04:41:50.602500",
     "status": "completed"
    },
    "tags": []
   },
   "outputs": [],
   "source": [
    "df_xgb = stock_data.copy()"
   ]
  },
  {
   "cell_type": "code",
   "execution_count": null,
   "id": "da926f7d",
   "metadata": {
    "execution": {
     "iopub.execute_input": "2024-03-15T04:41:50.654984Z",
     "iopub.status.busy": "2024-03-15T04:41:50.654452Z",
     "iopub.status.idle": "2024-03-15T04:41:50.668844Z",
     "shell.execute_reply": "2024-03-15T04:41:50.668089Z"
    },
    "papermill": {
     "duration": 0.031803,
     "end_time": "2024-03-15T04:41:50.671131",
     "exception": false,
     "start_time": "2024-03-15T04:41:50.639328",
     "status": "completed"
    },
    "tags": []
   },
   "outputs": [],
   "source": [
    "def xgboostmodel(df_xgb,add_lags,create_features,num_days_pred=num_days_pred):\n",
    "\n",
    "    df_xgb = create_features(df_xgb)\n",
    "    df_xgb = add_lags(df_xgb)\n",
    "    \n",
    "    X = df_xgb.drop(columns='Close')\n",
    "    y = df_xgb['Close']\n",
    "    return X,y\n",
    "X,y = xgboostmodel(df_xgb ,add_lags,create_features,num_days_pred=30)"
   ]
  },
  {
   "cell_type": "code",
   "execution_count": null,
   "id": "0fccc4fa",
   "metadata": {
    "execution": {
     "iopub.execute_input": "2024-03-15T04:41:50.700787Z",
     "iopub.status.busy": "2024-03-15T04:41:50.700195Z",
     "iopub.status.idle": "2024-03-15T04:42:51.431038Z",
     "shell.execute_reply": "2024-03-15T04:42:51.430316Z"
    },
    "papermill": {
     "duration": 60.747984,
     "end_time": "2024-03-15T04:42:51.432982",
     "exception": false,
     "start_time": "2024-03-15T04:41:50.684998",
     "status": "completed"
    },
    "tags": []
   },
   "outputs": [],
   "source": [
    "# Define objective function for Optuna\n",
    "def objective(trial):\n",
    "    # Define hyperparameters to search\n",
    "    param = {\n",
    "        'objective': 'reg:squarederror',\n",
    "        'eval_metric': 'rmse',\n",
    "        'n_estimators': trial.suggest_int('n_estimators', 100, 1000),\n",
    "        'max_depth': trial.suggest_int('max_depth', 3, 10),\n",
    "        'learning_rate': trial.suggest_float('learning_rate', 0.01, 0.1),\n",
    "        'subsample': trial.suggest_float('subsample', 0.6, 1.0),\n",
    "        'colsample_bytree': trial.suggest_float('colsample_bytree', 0.6, 1.0),\n",
    "        'reg_alpha': trial.suggest_float('reg_alpha', 0, 10),\n",
    "        'reg_lambda': trial.suggest_float('reg_lambda', 0, 10),\n",
    "        'verbosity': 0,\n",
    "        #'tree_method': 'gpu_hist',\n",
    "    }\n",
    "    \n",
    "    # Initialize XGBoost regressor with the suggested parameters\n",
    "    xgb = XGBRegressor(**param)\n",
    "    \n",
    "    # Fit the model on training data\n",
    "    xgb.fit(X_train, y_train)\n",
    "    \n",
    "    # Predict on the validation set\n",
    "    y_pred = xgb.predict(X_test)\n",
    "    \n",
    "    # Calculate RMSE\n",
    "    rmse = np.sqrt(mean_squared_error(y_test, y_pred))\n",
    "    \n",
    "    return rmse\n",
    "\n",
    "\n",
    "X_train, X_test, y_train, y_test = train_test_split(X, y, test_size=0.3, random_state=42)\n",
    "# Perform hyperparameter optimization using Optuna\n",
    "study = optuna.create_study(direction='minimize')\n",
    "study.optimize(objective, n_trials=50)\n",
    "\n",
    "# Print the best trial and parameters found\n",
    "print(\"Best trial:\")\n",
    "best_trial = study.best_trial\n",
    "print(f\"  Value: {best_trial.value}\")\n",
    "print(\"  Params: \")\n",
    "for key, value in best_trial.params.items():\n",
    "    print(f\"    {key}: {value}\")\n",
    "\n",
    "# Use the best parameters to train the final model\n",
    "best_params = best_trial.params\n",
    "xgb_best = XGBRegressor(**best_params)\n",
    "xgb_best.fit(X_train, y_train)\n",
    "\n",
    "# Make predictions on the test set\n",
    "y_pred_test = xgb_best.predict(X_test)\n",
    "\n",
    "# Calculate RMSE on the test set\n",
    "rmse_test = np.sqrt(mean_squared_error(y_test, y_pred_test))\n",
    "print(\"Test RMSE:\", rmse_test)"
   ]
  },
  {
   "cell_type": "markdown",
   "id": "e2650482",
   "metadata": {
    "papermill": {
     "duration": 0.016178,
     "end_time": "2024-03-15T04:42:51.465991",
     "exception": false,
     "start_time": "2024-03-15T04:42:51.449813",
     "status": "completed"
    },
    "tags": []
   },
   "source": [
    "## Evaluate"
   ]
  },
  {
   "cell_type": "code",
   "execution_count": null,
   "id": "315005a0",
   "metadata": {
    "execution": {
     "iopub.execute_input": "2024-03-15T04:42:51.501207Z",
     "iopub.status.busy": "2024-03-15T04:42:51.500553Z",
     "iopub.status.idle": "2024-03-15T04:42:51.518295Z",
     "shell.execute_reply": "2024-03-15T04:42:51.517578Z"
    },
    "papermill": {
     "duration": 0.038258,
     "end_time": "2024-03-15T04:42:51.520718",
     "exception": false,
     "start_time": "2024-03-15T04:42:51.482460",
     "status": "completed"
    },
    "tags": []
   },
   "outputs": [],
   "source": [
    "y_pred_test_xgb = xgb_best.predict(X_test)\n",
    "xgb_loss = mean_absolute_percentage_error(y_test, y_pred_test_xgb) \n",
    "print(f\"ERROR PERCENT = { mean_absolute_percentage_error(y_test, y_pred_test_xgb) }% \")"
   ]
  },
  {
   "cell_type": "code",
   "execution_count": null,
   "id": "347cc090",
   "metadata": {
    "execution": {
     "iopub.execute_input": "2024-03-15T04:42:51.557652Z",
     "iopub.status.busy": "2024-03-15T04:42:51.557026Z",
     "iopub.status.idle": "2024-03-15T04:42:51.979445Z",
     "shell.execute_reply": "2024-03-15T04:42:51.978459Z"
    },
    "papermill": {
     "duration": 0.443181,
     "end_time": "2024-03-15T04:42:51.981894",
     "exception": false,
     "start_time": "2024-03-15T04:42:51.538713",
     "status": "completed"
    },
    "tags": []
   },
   "outputs": [],
   "source": [
    "plt.figure(figsize=(10, 6))\n",
    "plt.scatter(X_test.index, y_test, color='blue', label='Actual')\n",
    "plt.scatter(X_test.index, y_pred_test_xgb , color='red', label='Predicted')\n",
    "plt.title('Actual vs Predicted Values')\n",
    "plt.xlabel('Time')\n",
    "plt.ylabel('Value')\n",
    "plt.legend()\n",
    "plt.show()"
   ]
  },
  {
   "cell_type": "code",
   "execution_count": null,
   "id": "cf0905ac",
   "metadata": {
    "execution": {
     "iopub.execute_input": "2024-03-15T04:42:52.019822Z",
     "iopub.status.busy": "2024-03-15T04:42:52.019464Z",
     "iopub.status.idle": "2024-03-15T04:42:52.363892Z",
     "shell.execute_reply": "2024-03-15T04:42:52.362768Z"
    },
    "papermill": {
     "duration": 0.365842,
     "end_time": "2024-03-15T04:42:52.366256",
     "exception": false,
     "start_time": "2024-03-15T04:42:52.000414",
     "status": "completed"
    },
    "tags": []
   },
   "outputs": [],
   "source": [
    "# Let's ZoomIn\n",
    "plt.figure(figsize=(10, 6))\n",
    "plt.scatter(X_test.index[:30], y_test[:30], color='blue', label='Actual')\n",
    "plt.scatter(X_test.index[:30], y_pred_test_xgb[:30] , color='red', label='Predicted')\n",
    "plt.title('Actual vs Predicted Values')\n",
    "plt.xlabel('Time')\n",
    "plt.ylabel('Value')\n",
    "plt.legend()\n",
    "plt.show()"
   ]
  },
  {
   "cell_type": "code",
   "execution_count": null,
   "id": "67d4ff05",
   "metadata": {
    "execution": {
     "iopub.execute_input": "2024-03-15T04:42:52.403317Z",
     "iopub.status.busy": "2024-03-15T04:42:52.402966Z",
     "iopub.status.idle": "2024-03-15T04:42:52.706123Z",
     "shell.execute_reply": "2024-03-15T04:42:52.704643Z"
    },
    "papermill": {
     "duration": 0.324567,
     "end_time": "2024-03-15T04:42:52.708602",
     "exception": false,
     "start_time": "2024-03-15T04:42:52.384035",
     "status": "completed"
    },
    "tags": []
   },
   "outputs": [],
   "source": [
    "from xgboost import plot_importance\n",
    "\n",
    "# Plot feature importance\n",
    "plt.figure(figsize=(10, 6))\n",
    "plot_importance(xgb_best, max_num_features=20)  # Adjust max_num_features as needed\n",
    "plt.title(\"Feature Importance\")\n",
    "plt.show()"
   ]
  },
  {
   "cell_type": "markdown",
   "id": "ad47de94",
   "metadata": {
    "papermill": {
     "duration": 0.018979,
     "end_time": "2024-03-15T04:42:52.746497",
     "exception": false,
     "start_time": "2024-03-15T04:42:52.727518",
     "status": "completed"
    },
    "tags": []
   },
   "source": [
    "## Predict In The Future"
   ]
  },
  {
   "cell_type": "code",
   "execution_count": null,
   "id": "6921e378",
   "metadata": {
    "execution": {
     "iopub.execute_input": "2024-03-15T04:42:52.787054Z",
     "iopub.status.busy": "2024-03-15T04:42:52.786738Z",
     "iopub.status.idle": "2024-03-15T04:42:52.791185Z",
     "shell.execute_reply": "2024-03-15T04:42:52.790289Z"
    },
    "papermill": {
     "duration": 0.027296,
     "end_time": "2024-03-15T04:42:52.792852",
     "exception": false,
     "start_time": "2024-03-15T04:42:52.765556",
     "status": "completed"
    },
    "tags": []
   },
   "outputs": [],
   "source": [
    "start = df_xgb.index.max()\n",
    "end = start + pd.Timedelta(days=num_days_pred)"
   ]
  },
  {
   "cell_type": "code",
   "execution_count": null,
   "id": "0346b5d6",
   "metadata": {
    "execution": {
     "iopub.execute_input": "2024-03-15T04:42:52.832604Z",
     "iopub.status.busy": "2024-03-15T04:42:52.832220Z",
     "iopub.status.idle": "2024-03-15T04:42:52.854414Z",
     "shell.execute_reply": "2024-03-15T04:42:52.853487Z"
    },
    "papermill": {
     "duration": 0.044521,
     "end_time": "2024-03-15T04:42:52.856741",
     "exception": false,
     "start_time": "2024-03-15T04:42:52.812220",
     "status": "completed"
    },
    "tags": []
   },
   "outputs": [],
   "source": [
    "future = pd.date_range(start=start,end=end,freq='1d')\n",
    "future_df = pd.DataFrame(index=future)\n",
    "future_df['isFuture']= True\n",
    "df_xgb['isFuture']= False\n",
    "df_and_future = pd.concat([df_xgb,future_df])\n",
    "df_and_future = create_features(df_and_future)\n",
    "df_and_future = add_lags(df_and_future)\n",
    "future_w_features = df_and_future.query('isFuture').copy()"
   ]
  },
  {
   "cell_type": "code",
   "execution_count": null,
   "id": "278ccebe",
   "metadata": {
    "execution": {
     "iopub.execute_input": "2024-03-15T04:42:52.896775Z",
     "iopub.status.busy": "2024-03-15T04:42:52.896395Z",
     "iopub.status.idle": "2024-03-15T04:42:52.915339Z",
     "shell.execute_reply": "2024-03-15T04:42:52.914592Z"
    },
    "papermill": {
     "duration": 0.041896,
     "end_time": "2024-03-15T04:42:52.917470",
     "exception": false,
     "start_time": "2024-03-15T04:42:52.875574",
     "status": "completed"
    },
    "tags": []
   },
   "outputs": [],
   "source": [
    "future_w_features['pred'] = xgb_best.predict(future_w_features.drop(columns=['Close','isFuture']))"
   ]
  },
  {
   "cell_type": "code",
   "execution_count": null,
   "id": "830479cc",
   "metadata": {
    "execution": {
     "iopub.execute_input": "2024-03-15T04:42:52.956758Z",
     "iopub.status.busy": "2024-03-15T04:42:52.956348Z",
     "iopub.status.idle": "2024-03-15T04:42:52.971607Z",
     "shell.execute_reply": "2024-03-15T04:42:52.970702Z"
    },
    "papermill": {
     "duration": 0.037024,
     "end_time": "2024-03-15T04:42:52.973616",
     "exception": false,
     "start_time": "2024-03-15T04:42:52.936592",
     "status": "completed"
    },
    "tags": []
   },
   "outputs": [],
   "source": [
    "prediction_xgb = pd.DataFrame(future_w_features['pred'])\n",
    "prediction_xgb"
   ]
  },
  {
   "cell_type": "markdown",
   "id": "71903ce7",
   "metadata": {
    "papermill": {
     "duration": 0.072856,
     "end_time": "2024-03-15T04:42:53.065312",
     "exception": false,
     "start_time": "2024-03-15T04:42:52.992456",
     "status": "completed"
    },
    "tags": []
   },
   "source": [
    "# Prophet"
   ]
  },
  {
   "cell_type": "code",
   "execution_count": null,
   "id": "46fb3da5",
   "metadata": {
    "execution": {
     "iopub.execute_input": "2024-03-15T04:42:53.105096Z",
     "iopub.status.busy": "2024-03-15T04:42:53.104756Z",
     "iopub.status.idle": "2024-03-15T04:42:53.110152Z",
     "shell.execute_reply": "2024-03-15T04:42:53.108623Z"
    },
    "papermill": {
     "duration": 0.027981,
     "end_time": "2024-03-15T04:42:53.112386",
     "exception": false,
     "start_time": "2024-03-15T04:42:53.084405",
     "status": "completed"
    },
    "tags": []
   },
   "outputs": [],
   "source": [
    "df_prophet = stock_data.copy()"
   ]
  },
  {
   "cell_type": "markdown",
   "id": "720c5fa3",
   "metadata": {
    "papermill": {
     "duration": 0.019632,
     "end_time": "2024-03-15T04:42:53.151658",
     "exception": false,
     "start_time": "2024-03-15T04:42:53.132026",
     "status": "completed"
    },
    "tags": []
   },
   "source": [
    "Split"
   ]
  },
  {
   "cell_type": "code",
   "execution_count": null,
   "id": "4360cfaf",
   "metadata": {
    "execution": {
     "iopub.execute_input": "2024-03-15T04:42:53.191691Z",
     "iopub.status.busy": "2024-03-15T04:42:53.190909Z",
     "iopub.status.idle": "2024-03-15T04:42:53.198345Z",
     "shell.execute_reply": "2024-03-15T04:42:53.197044Z"
    },
    "papermill": {
     "duration": 0.030119,
     "end_time": "2024-03-15T04:42:53.200825",
     "exception": false,
     "start_time": "2024-03-15T04:42:53.170706",
     "status": "completed"
    },
    "tags": []
   },
   "outputs": [],
   "source": [
    "split_date = df_prophet.index[int(len(df_prophet) * 0.8)]\n",
    "train = df_prophet.loc[df_prophet.index <= split_date].copy()\n",
    "test = df_prophet.loc[df_prophet.index > split_date].copy()"
   ]
  },
  {
   "cell_type": "markdown",
   "id": "5929121a",
   "metadata": {
    "papermill": {
     "duration": 0.018992,
     "end_time": "2024-03-15T04:42:53.239068",
     "exception": false,
     "start_time": "2024-03-15T04:42:53.220076",
     "status": "completed"
    },
    "tags": []
   },
   "source": [
    "Preprocess"
   ]
  },
  {
   "cell_type": "code",
   "execution_count": null,
   "id": "33d1fa60",
   "metadata": {
    "execution": {
     "iopub.execute_input": "2024-03-15T04:42:53.279656Z",
     "iopub.status.busy": "2024-03-15T04:42:53.279286Z",
     "iopub.status.idle": "2024-03-15T04:42:53.285316Z",
     "shell.execute_reply": "2024-03-15T04:42:53.284091Z"
    },
    "papermill": {
     "duration": 0.029493,
     "end_time": "2024-03-15T04:42:53.288025",
     "exception": false,
     "start_time": "2024-03-15T04:42:53.258532",
     "status": "completed"
    },
    "tags": []
   },
   "outputs": [],
   "source": [
    "# Format data for prophet model using ds and y\n",
    "train_prophet = train.reset_index() \\\n",
    "    .rename(columns={'Date':'ds',\n",
    "                     'Close':'y'})"
   ]
  },
  {
   "cell_type": "code",
   "execution_count": null,
   "id": "f1a9d862",
   "metadata": {
    "execution": {
     "iopub.execute_input": "2024-03-15T04:42:53.329824Z",
     "iopub.status.busy": "2024-03-15T04:42:53.329479Z",
     "iopub.status.idle": "2024-03-15T04:42:53.340334Z",
     "shell.execute_reply": "2024-03-15T04:42:53.339390Z"
    },
    "papermill": {
     "duration": 0.034657,
     "end_time": "2024-03-15T04:42:53.342527",
     "exception": false,
     "start_time": "2024-03-15T04:42:53.307870",
     "status": "completed"
    },
    "tags": []
   },
   "outputs": [],
   "source": [
    "train_prophet "
   ]
  },
  {
   "cell_type": "markdown",
   "id": "be9be3b8",
   "metadata": {
    "papermill": {
     "duration": 0.018808,
     "end_time": "2024-03-15T04:42:53.380493",
     "exception": false,
     "start_time": "2024-03-15T04:42:53.361685",
     "status": "completed"
    },
    "tags": []
   },
   "source": [
    "Training"
   ]
  },
  {
   "cell_type": "code",
   "execution_count": null,
   "id": "7ec4b845",
   "metadata": {
    "execution": {
     "iopub.execute_input": "2024-03-15T04:42:53.420469Z",
     "iopub.status.busy": "2024-03-15T04:42:53.420112Z",
     "iopub.status.idle": "2024-03-15T04:42:54.060240Z",
     "shell.execute_reply": "2024-03-15T04:42:54.059319Z"
    },
    "papermill": {
     "duration": 0.66233,
     "end_time": "2024-03-15T04:42:54.062204",
     "exception": false,
     "start_time": "2024-03-15T04:42:53.399874",
     "status": "completed"
    },
    "tags": []
   },
   "outputs": [],
   "source": [
    "prophet = Prophet()\n",
    "prophet.fit(train_prophet)"
   ]
  },
  {
   "cell_type": "code",
   "execution_count": null,
   "id": "ee3b29b6",
   "metadata": {
    "execution": {
     "iopub.execute_input": "2024-03-15T04:42:54.105144Z",
     "iopub.status.busy": "2024-03-15T04:42:54.104799Z",
     "iopub.status.idle": "2024-03-15T04:42:54.545150Z",
     "shell.execute_reply": "2024-03-15T04:42:54.543719Z"
    },
    "papermill": {
     "duration": 0.463981,
     "end_time": "2024-03-15T04:42:54.547601",
     "exception": false,
     "start_time": "2024-03-15T04:42:54.083620",
     "status": "completed"
    },
    "tags": []
   },
   "outputs": [],
   "source": [
    "# Format data for prophet model using ds and y\n",
    "test_prophet = test.reset_index() \\\n",
    "    .rename(columns={'Date':'ds',\n",
    "                     'Close':'y'})\n",
    "test_predict = prophet.predict(test_prophet)"
   ]
  },
  {
   "cell_type": "markdown",
   "id": "08ba55ad",
   "metadata": {
    "papermill": {
     "duration": 0.020175,
     "end_time": "2024-03-15T04:42:54.587454",
     "exception": false,
     "start_time": "2024-03-15T04:42:54.567279",
     "status": "completed"
    },
    "tags": []
   },
   "source": [
    "Evaluating"
   ]
  },
  {
   "cell_type": "code",
   "execution_count": null,
   "id": "836f8a7f",
   "metadata": {
    "execution": {
     "iopub.execute_input": "2024-03-15T04:42:54.629044Z",
     "iopub.status.busy": "2024-03-15T04:42:54.628678Z",
     "iopub.status.idle": "2024-03-15T04:42:54.635007Z",
     "shell.execute_reply": "2024-03-15T04:42:54.633340Z"
    },
    "papermill": {
     "duration": 0.029879,
     "end_time": "2024-03-15T04:42:54.636994",
     "exception": false,
     "start_time": "2024-03-15T04:42:54.607115",
     "status": "completed"
    },
    "tags": []
   },
   "outputs": [],
   "source": [
    "porphet_loss = mean_absolute_percentage_error(test['Close'],test_predict['yhat'] )\n",
    "print(f\"ERROR PERCENT = { mean_absolute_percentage_error(test['Close'],test_predict['yhat'] ) }% \")"
   ]
  },
  {
   "cell_type": "code",
   "execution_count": null,
   "id": "706ea515",
   "metadata": {
    "execution": {
     "iopub.execute_input": "2024-03-15T04:42:54.680032Z",
     "iopub.status.busy": "2024-03-15T04:42:54.679655Z",
     "iopub.status.idle": "2024-03-15T04:42:55.012708Z",
     "shell.execute_reply": "2024-03-15T04:42:55.011271Z"
    },
    "papermill": {
     "duration": 0.357998,
     "end_time": "2024-03-15T04:42:55.014835",
     "exception": false,
     "start_time": "2024-03-15T04:42:54.656837",
     "status": "completed"
    },
    "tags": []
   },
   "outputs": [],
   "source": [
    "plt.figure(figsize=(10, 6))\n",
    "plt.scatter(test.index, test['Close'], color='blue', label='Actual')\n",
    "plt.scatter(test.index, test_predict['yhat'] , color='red', label='Predicted')\n",
    "plt.title('Actual vs Predicted Values')\n",
    "plt.xlabel('Time')\n",
    "plt.ylabel('Value')\n",
    "plt.legend()\n",
    "plt.show()"
   ]
  },
  {
   "cell_type": "code",
   "execution_count": null,
   "id": "95d80252",
   "metadata": {
    "execution": {
     "iopub.execute_input": "2024-03-15T04:42:55.058769Z",
     "iopub.status.busy": "2024-03-15T04:42:55.058397Z",
     "iopub.status.idle": "2024-03-15T04:42:56.203190Z",
     "shell.execute_reply": "2024-03-15T04:42:56.201952Z"
    },
    "papermill": {
     "duration": 1.16859,
     "end_time": "2024-03-15T04:42:56.205000",
     "exception": false,
     "start_time": "2024-03-15T04:42:55.036410",
     "status": "completed"
    },
    "tags": []
   },
   "outputs": [],
   "source": [
    "prophet.plot_components(test_predict)"
   ]
  },
  {
   "cell_type": "markdown",
   "id": "5ee8fcc8",
   "metadata": {
    "papermill": {
     "duration": 0.022173,
     "end_time": "2024-03-15T04:42:56.249256",
     "exception": false,
     "start_time": "2024-03-15T04:42:56.227083",
     "status": "completed"
    },
    "tags": []
   },
   "source": [
    "Predicting in the Future"
   ]
  },
  {
   "cell_type": "code",
   "execution_count": null,
   "id": "1610de6c",
   "metadata": {
    "execution": {
     "iopub.execute_input": "2024-03-15T04:42:56.294788Z",
     "iopub.status.busy": "2024-03-15T04:42:56.294413Z",
     "iopub.status.idle": "2024-03-15T04:42:56.778085Z",
     "shell.execute_reply": "2024-03-15T04:42:56.777434Z"
    },
    "papermill": {
     "duration": 0.508664,
     "end_time": "2024-03-15T04:42:56.779934",
     "exception": false,
     "start_time": "2024-03-15T04:42:56.271270",
     "status": "completed"
    },
    "tags": []
   },
   "outputs": [],
   "source": [
    "prophet_data = df_prophet.reset_index() \\\n",
    "    .rename(columns={'Date':'ds',\n",
    "                     'Close':'y'})\n",
    "prophet = Prophet()\n",
    "prophet.fit(prophet_data)"
   ]
  },
  {
   "cell_type": "code",
   "execution_count": null,
   "id": "395fc82f",
   "metadata": {
    "execution": {
     "iopub.execute_input": "2024-03-15T04:42:56.827610Z",
     "iopub.status.busy": "2024-03-15T04:42:56.826634Z",
     "iopub.status.idle": "2024-03-15T04:42:57.079872Z",
     "shell.execute_reply": "2024-03-15T04:42:57.078523Z"
    },
    "papermill": {
     "duration": 0.279323,
     "end_time": "2024-03-15T04:42:57.082065",
     "exception": false,
     "start_time": "2024-03-15T04:42:56.802742",
     "status": "completed"
    },
    "tags": []
   },
   "outputs": [],
   "source": [
    "future = prophet.make_future_dataframe(periods=num_days_pred, freq='d', include_history=False)\n",
    "forecast = prophet.predict(future)\n",
    "forecast_prophet = forecast[['ds','yhat']]\n",
    "forecast_prophet.index = forecast_prophet.pop('ds')"
   ]
  },
  {
   "cell_type": "code",
   "execution_count": null,
   "id": "c7807b4b",
   "metadata": {
    "execution": {
     "iopub.execute_input": "2024-03-15T04:42:57.130111Z",
     "iopub.status.busy": "2024-03-15T04:42:57.129190Z",
     "iopub.status.idle": "2024-03-15T04:42:57.139822Z",
     "shell.execute_reply": "2024-03-15T04:42:57.138293Z"
    },
    "papermill": {
     "duration": 0.038382,
     "end_time": "2024-03-15T04:42:57.142496",
     "exception": false,
     "start_time": "2024-03-15T04:42:57.104114",
     "status": "completed"
    },
    "tags": []
   },
   "outputs": [],
   "source": [
    "forecast_prophet"
   ]
  },
  {
   "cell_type": "markdown",
   "id": "0a0d3646",
   "metadata": {
    "papermill": {
     "duration": 0.023428,
     "end_time": "2024-03-15T04:42:57.189414",
     "exception": false,
     "start_time": "2024-03-15T04:42:57.165986",
     "status": "completed"
    },
    "tags": []
   },
   "source": [
    "# ARIMA"
   ]
  },
  {
   "cell_type": "code",
   "execution_count": null,
   "id": "83aeec4e",
   "metadata": {
    "execution": {
     "iopub.execute_input": "2024-03-15T04:42:57.236974Z",
     "iopub.status.busy": "2024-03-15T04:42:57.236591Z",
     "iopub.status.idle": "2024-03-15T04:42:57.242110Z",
     "shell.execute_reply": "2024-03-15T04:42:57.241028Z"
    },
    "papermill": {
     "duration": 0.031043,
     "end_time": "2024-03-15T04:42:57.244042",
     "exception": false,
     "start_time": "2024-03-15T04:42:57.212999",
     "status": "completed"
    },
    "tags": []
   },
   "outputs": [],
   "source": [
    "df_arima = stock_data.copy()"
   ]
  },
  {
   "cell_type": "markdown",
   "id": "c1557a01",
   "metadata": {
    "papermill": {
     "duration": 0.022486,
     "end_time": "2024-03-15T04:42:57.290337",
     "exception": false,
     "start_time": "2024-03-15T04:42:57.267851",
     "status": "completed"
    },
    "tags": []
   },
   "source": [
    "Split"
   ]
  },
  {
   "cell_type": "code",
   "execution_count": null,
   "id": "47ddd6a2",
   "metadata": {
    "execution": {
     "iopub.execute_input": "2024-03-15T04:42:57.339673Z",
     "iopub.status.busy": "2024-03-15T04:42:57.339249Z",
     "iopub.status.idle": "2024-03-15T04:42:57.348284Z",
     "shell.execute_reply": "2024-03-15T04:42:57.346596Z"
    },
    "papermill": {
     "duration": 0.03548,
     "end_time": "2024-03-15T04:42:57.350401",
     "exception": false,
     "start_time": "2024-03-15T04:42:57.314921",
     "status": "completed"
    },
    "tags": []
   },
   "outputs": [],
   "source": [
    "split_date = df_prophet.index[int(len(df_arima) * 0.8)]\n",
    "train_arima = df_arima.loc[df_arima.index <= split_date].copy()\n",
    "test_arima = df_arima.loc[df_arima.index > split_date].copy()"
   ]
  },
  {
   "cell_type": "markdown",
   "id": "927ebac3",
   "metadata": {
    "papermill": {
     "duration": 0.022025,
     "end_time": "2024-03-15T04:42:57.395655",
     "exception": false,
     "start_time": "2024-03-15T04:42:57.373630",
     "status": "completed"
    },
    "tags": []
   },
   "source": [
    "hyperparamter tuning "
   ]
  },
  {
   "cell_type": "code",
   "execution_count": null,
   "id": "3e419dfb",
   "metadata": {
    "execution": {
     "iopub.execute_input": "2024-03-15T04:42:57.444422Z",
     "iopub.status.busy": "2024-03-15T04:42:57.444036Z",
     "iopub.status.idle": "2024-03-15T04:42:59.286284Z",
     "shell.execute_reply": "2024-03-15T04:42:59.285393Z"
    },
    "papermill": {
     "duration": 1.868303,
     "end_time": "2024-03-15T04:42:59.288379",
     "exception": false,
     "start_time": "2024-03-15T04:42:57.420076",
     "status": "completed"
    },
    "tags": []
   },
   "outputs": [],
   "source": [
    "# Try to find the best parameters for arima model \n",
    "stepwise_fit = auto_arima(train_arima['Close'],trace=True,suppress_warnings=True)\n",
    "# assign the parameter to \"best_order\" variable\n",
    "best_order = stepwise_fit.get_params()['order']"
   ]
  },
  {
   "cell_type": "markdown",
   "id": "b6b8a610",
   "metadata": {
    "papermill": {
     "duration": 0.022573,
     "end_time": "2024-03-15T04:42:59.333776",
     "exception": false,
     "start_time": "2024-03-15T04:42:59.311203",
     "status": "completed"
    },
    "tags": []
   },
   "source": [
    "train"
   ]
  },
  {
   "cell_type": "code",
   "execution_count": null,
   "id": "d7e7db8a",
   "metadata": {
    "execution": {
     "iopub.execute_input": "2024-03-15T04:42:59.382634Z",
     "iopub.status.busy": "2024-03-15T04:42:59.381965Z",
     "iopub.status.idle": "2024-03-15T04:42:59.415117Z",
     "shell.execute_reply": "2024-03-15T04:42:59.414433Z"
    },
    "papermill": {
     "duration": 0.060175,
     "end_time": "2024-03-15T04:42:59.417083",
     "exception": false,
     "start_time": "2024-03-15T04:42:59.356908",
     "status": "completed"
    },
    "tags": []
   },
   "outputs": [],
   "source": [
    "arima = ARIMA(train_arima['Close'], order=best_order)\n",
    "arima = arima.fit()"
   ]
  },
  {
   "cell_type": "markdown",
   "id": "5e10a8e9",
   "metadata": {
    "papermill": {
     "duration": 0.021943,
     "end_time": "2024-03-15T04:42:59.461611",
     "exception": false,
     "start_time": "2024-03-15T04:42:59.439668",
     "status": "completed"
    },
    "tags": []
   },
   "source": [
    "evaluate"
   ]
  },
  {
   "cell_type": "code",
   "execution_count": null,
   "id": "d9ff9537",
   "metadata": {
    "execution": {
     "iopub.execute_input": "2024-03-15T04:42:59.508574Z",
     "iopub.status.busy": "2024-03-15T04:42:59.508203Z",
     "iopub.status.idle": "2024-03-15T04:42:59.512203Z",
     "shell.execute_reply": "2024-03-15T04:42:59.511412Z"
    },
    "papermill": {
     "duration": 0.029458,
     "end_time": "2024-03-15T04:42:59.513965",
     "exception": false,
     "start_time": "2024-03-15T04:42:59.484507",
     "status": "completed"
    },
    "tags": []
   },
   "outputs": [],
   "source": [
    "start = len(train_arima)\n",
    "end = len(test_arima) + len(train_arima)"
   ]
  },
  {
   "cell_type": "code",
   "execution_count": null,
   "id": "aace1a42",
   "metadata": {
    "execution": {
     "iopub.execute_input": "2024-03-15T04:42:59.559517Z",
     "iopub.status.busy": "2024-03-15T04:42:59.559170Z",
     "iopub.status.idle": "2024-03-15T04:42:59.571232Z",
     "shell.execute_reply": "2024-03-15T04:42:59.570398Z"
    },
    "papermill": {
     "duration": 0.037023,
     "end_time": "2024-03-15T04:42:59.573154",
     "exception": false,
     "start_time": "2024-03-15T04:42:59.536131",
     "status": "completed"
    },
    "tags": []
   },
   "outputs": [],
   "source": [
    "pred_arima = arima.predict(start=start,end=end-1)"
   ]
  },
  {
   "cell_type": "code",
   "execution_count": null,
   "id": "8b901a0e",
   "metadata": {
    "execution": {
     "iopub.execute_input": "2024-03-15T04:42:59.620318Z",
     "iopub.status.busy": "2024-03-15T04:42:59.619946Z",
     "iopub.status.idle": "2024-03-15T04:42:59.624657Z",
     "shell.execute_reply": "2024-03-15T04:42:59.623650Z"
    },
    "papermill": {
     "duration": 0.030336,
     "end_time": "2024-03-15T04:42:59.626304",
     "exception": false,
     "start_time": "2024-03-15T04:42:59.595968",
     "status": "completed"
    },
    "tags": []
   },
   "outputs": [],
   "source": [
    "pred_arima.index = test_arima.index"
   ]
  },
  {
   "cell_type": "code",
   "execution_count": null,
   "id": "60a6fb6b",
   "metadata": {
    "execution": {
     "iopub.execute_input": "2024-03-15T04:42:59.674488Z",
     "iopub.status.busy": "2024-03-15T04:42:59.673311Z",
     "iopub.status.idle": "2024-03-15T04:42:59.969789Z",
     "shell.execute_reply": "2024-03-15T04:42:59.968105Z"
    },
    "papermill": {
     "duration": 0.323563,
     "end_time": "2024-03-15T04:42:59.972521",
     "exception": false,
     "start_time": "2024-03-15T04:42:59.648958",
     "status": "completed"
    },
    "tags": []
   },
   "outputs": [],
   "source": [
    "pred_arima.plot()"
   ]
  },
  {
   "cell_type": "code",
   "execution_count": null,
   "id": "fa1b4edf",
   "metadata": {
    "execution": {
     "iopub.execute_input": "2024-03-15T04:43:00.020859Z",
     "iopub.status.busy": "2024-03-15T04:43:00.020493Z",
     "iopub.status.idle": "2024-03-15T04:43:00.029258Z",
     "shell.execute_reply": "2024-03-15T04:43:00.028108Z"
    },
    "papermill": {
     "duration": 0.035826,
     "end_time": "2024-03-15T04:43:00.031838",
     "exception": false,
     "start_time": "2024-03-15T04:42:59.996012",
     "status": "completed"
    },
    "tags": []
   },
   "outputs": [],
   "source": [
    "arima_loss = mean_absolute_percentage_error(test_arima['Close'],pred_arima )\n",
    "print(f\"ERROR PERCENT = { mean_absolute_percentage_error(test_arima['Close'],pred_arima ) }% \")"
   ]
  },
  {
   "cell_type": "markdown",
   "id": "1a6229f4",
   "metadata": {
    "papermill": {
     "duration": 0.024073,
     "end_time": "2024-03-15T04:43:00.079252",
     "exception": false,
     "start_time": "2024-03-15T04:43:00.055179",
     "status": "completed"
    },
    "tags": []
   },
   "source": [
    "predict into future"
   ]
  },
  {
   "cell_type": "code",
   "execution_count": null,
   "id": "e852b8db",
   "metadata": {
    "execution": {
     "iopub.execute_input": "2024-03-15T04:43:00.128643Z",
     "iopub.status.busy": "2024-03-15T04:43:00.127982Z",
     "iopub.status.idle": "2024-03-15T04:43:14.504232Z",
     "shell.execute_reply": "2024-03-15T04:43:14.503492Z"
    },
    "papermill": {
     "duration": 14.403946,
     "end_time": "2024-03-15T04:43:14.506891",
     "exception": false,
     "start_time": "2024-03-15T04:43:00.102945",
     "status": "completed"
    },
    "tags": []
   },
   "outputs": [],
   "source": [
    "# Try to find the best parameters for arima model \n",
    "stepwise_fit = auto_arima(df_arima['Close'],trace=True,suppress_warnings=True)\n",
    "# assign the parameter to \"best_order\" variable\n",
    "best_order = stepwise_fit.get_params()['order']\n",
    "\n",
    "arima = ARIMA(df_arima['Close'], order=best_order)\n",
    "arima = arima.fit()"
   ]
  },
  {
   "cell_type": "code",
   "execution_count": null,
   "id": "75f0427b",
   "metadata": {
    "execution": {
     "iopub.execute_input": "2024-03-15T04:43:14.576553Z",
     "iopub.status.busy": "2024-03-15T04:43:14.575712Z",
     "iopub.status.idle": "2024-03-15T04:43:14.583127Z",
     "shell.execute_reply": "2024-03-15T04:43:14.582479Z"
    },
    "papermill": {
     "duration": 0.043918,
     "end_time": "2024-03-15T04:43:14.585037",
     "exception": false,
     "start_time": "2024-03-15T04:43:14.541119",
     "status": "completed"
    },
    "tags": []
   },
   "outputs": [],
   "source": [
    "start = len(df_arima)\n",
    "end = len(df_arima) + num_days_pred\n",
    "arima_forecast = arima.predict(start=start,end=end)"
   ]
  },
  {
   "cell_type": "code",
   "execution_count": null,
   "id": "76ac9793",
   "metadata": {
    "execution": {
     "iopub.execute_input": "2024-03-15T04:43:14.645011Z",
     "iopub.status.busy": "2024-03-15T04:43:14.644380Z",
     "iopub.status.idle": "2024-03-15T04:43:14.649076Z",
     "shell.execute_reply": "2024-03-15T04:43:14.648387Z"
    },
    "papermill": {
     "duration": 0.0326,
     "end_time": "2024-03-15T04:43:14.650755",
     "exception": false,
     "start_time": "2024-03-15T04:43:14.618155",
     "status": "completed"
    },
    "tags": []
   },
   "outputs": [],
   "source": [
    "start = df_arima.index.max()\n",
    "end = start + pd.Timedelta(days=num_days_pred)\n",
    "arima_forecast.index = pd.date_range(start, end, freq='1d')"
   ]
  },
  {
   "cell_type": "code",
   "execution_count": null,
   "id": "04f1bcbd",
   "metadata": {
    "execution": {
     "iopub.execute_input": "2024-03-15T04:43:14.701735Z",
     "iopub.status.busy": "2024-03-15T04:43:14.701408Z",
     "iopub.status.idle": "2024-03-15T04:43:14.706646Z",
     "shell.execute_reply": "2024-03-15T04:43:14.705422Z"
    },
    "papermill": {
     "duration": 0.034216,
     "end_time": "2024-03-15T04:43:14.709307",
     "exception": false,
     "start_time": "2024-03-15T04:43:14.675091",
     "status": "completed"
    },
    "tags": []
   },
   "outputs": [],
   "source": [
    "arima_forecast = pd.DataFrame(arima_forecast)"
   ]
  },
  {
   "cell_type": "markdown",
   "id": "bc3dfc4f",
   "metadata": {
    "papermill": {
     "duration": 0.024235,
     "end_time": "2024-03-15T04:43:14.758251",
     "exception": false,
     "start_time": "2024-03-15T04:43:14.734016",
     "status": "completed"
    },
    "tags": []
   },
   "source": [
    "# Communicate the results"
   ]
  },
  {
   "cell_type": "code",
   "execution_count": null,
   "id": "9164a877",
   "metadata": {
    "execution": {
     "iopub.execute_input": "2024-03-15T04:43:14.811530Z",
     "iopub.status.busy": "2024-03-15T04:43:14.810891Z",
     "iopub.status.idle": "2024-03-15T04:43:15.319698Z",
     "shell.execute_reply": "2024-03-15T04:43:15.318218Z"
    },
    "papermill": {
     "duration": 0.537937,
     "end_time": "2024-03-15T04:43:15.321954",
     "exception": false,
     "start_time": "2024-03-15T04:43:14.784017",
     "status": "completed"
    },
    "tags": []
   },
   "outputs": [],
   "source": [
    "fig, ax  = plt.subplots(figsize=(10,5))\n",
    "arima_forecast.plot(color='orange',ax=ax)\n",
    "prediction_xgb.plot(color = 'blue',ax=ax)\n",
    "forecast_prophet.plot(color = 'red',ax=ax)\n",
    "plt.legend(['Arima','XGB','Prophet'])\n",
    "plt.xlabel('Time')\n",
    "plt.ylabel('Close Price')\n",
    "plt.title(f\"Price Prediction in the Next {num_days_pred} Days\");"
   ]
  },
  {
   "cell_type": "code",
   "execution_count": null,
   "id": "55d10061",
   "metadata": {
    "execution": {
     "iopub.execute_input": "2024-03-15T04:43:15.374120Z",
     "iopub.status.busy": "2024-03-15T04:43:15.373751Z",
     "iopub.status.idle": "2024-03-15T04:43:15.379200Z",
     "shell.execute_reply": "2024-03-15T04:43:15.378256Z"
    },
    "papermill": {
     "duration": 0.034119,
     "end_time": "2024-03-15T04:43:15.381099",
     "exception": false,
     "start_time": "2024-03-15T04:43:15.346980",
     "status": "completed"
    },
    "tags": []
   },
   "outputs": [],
   "source": [
    "print(f\"XGB Acc : {100-xgb_loss} \\nArima Acc : {100-arima_loss}\\nProphet Acc : {100- porphet_loss}\")"
   ]
  }
 ],
 "metadata": {
  "kaggle": {
   "accelerator": "none",
   "dataSources": [
    {
     "datasetId": 4113746,
     "sourceId": 7137832,
     "sourceType": "datasetVersion"
    },
    {
     "datasetId": 1387282,
     "sourceId": 2312307,
     "sourceType": "datasetVersion"
    },
    {
     "datasetId": 4538,
     "sourceId": 7213,
     "sourceType": "datasetVersion"
    },
    {
     "datasetId": 854,
     "sourceId": 1575,
     "sourceType": "datasetVersion"
    },
    {
     "datasetId": 541298,
     "sourceId": 1054465,
     "sourceType": "datasetVersion"
    },
    {
     "datasetId": 516765,
     "sourceId": 1804596,
     "sourceType": "datasetVersion"
    },
    {
     "datasetId": 695933,
     "sourceId": 1217821,
     "sourceType": "datasetVersion"
    },
    {
     "datasetId": 1436765,
     "sourceId": 3358622,
     "sourceType": "datasetVersion"
    },
    {
     "datasetId": 1908,
     "sourceId": 17155,
     "sourceType": "datasetVersion"
    },
    {
     "sourceId": 117825740,
     "sourceType": "kernelVersion"
    },
    {
     "sourceId": 2586767,
     "sourceType": "kernelVersion"
    },
    {
     "sourceId": 2395222,
     "sourceType": "kernelVersion"
    },
    {
     "sourceId": 4287243,
     "sourceType": "kernelVersion"
    },
    {
     "sourceId": 50878731,
     "sourceType": "kernelVersion"
    },
    {
     "sourceId": 1161410,
     "sourceType": "kernelVersion"
    },
    {
     "sourceId": 1008777,
     "sourceType": "kernelVersion"
    },
    {
     "sourceId": 5605182,
     "sourceType": "kernelVersion"
    }
   ],
   "dockerImageVersionId": 30664,
   "isGpuEnabled": false,
   "isInternetEnabled": true,
   "language": "python",
   "sourceType": "notebook"
  },
  "kernelspec": {
   "display_name": "Python 3",
   "language": "python",
   "name": "python3"
  },
  "language_info": {
   "codemirror_mode": {
    "name": "ipython",
    "version": 3
   },
   "file_extension": ".py",
   "mimetype": "text/x-python",
   "name": "python",
   "nbconvert_exporter": "python",
   "pygments_lexer": "ipython3",
   "version": "undefined.undefined.undefined"
  },
  "papermill": {
   "default_parameters": {},
   "duration": 138.699223,
   "end_time": "2024-03-15T04:43:16.328915",
   "environment_variables": {},
   "exception": null,
   "input_path": "__notebook__.ipynb",
   "output_path": "__notebook__.ipynb",
   "parameters": {},
   "start_time": "2024-03-15T04:40:57.629692",
   "version": "2.5.0"
  }
 },
 "nbformat": 4,
 "nbformat_minor": 5
}
